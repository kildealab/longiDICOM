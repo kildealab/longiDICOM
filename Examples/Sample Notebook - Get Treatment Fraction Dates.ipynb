{
 "cells": [
  {
   "cell_type": "code",
   "execution_count": 89,
   "id": "9798f1f3-a878-4bf6-b8c8-68617f431d03",
   "metadata": {},
   "outputs": [],
   "source": [
    "import sys, os, json\n",
    "import importlib"
   ]
  },
  {
   "cell_type": "code",
   "execution_count": 14,
   "id": "1f467a7f-e7d2-4a72-9083-cbcb7acd5c46",
   "metadata": {},
   "outputs": [],
   "source": [
    "fd = os.path.abspath('') # this file's directory\n",
    "sys.path.append(fd+'/../code/')"
   ]
  },
  {
   "cell_type": "code",
   "execution_count": 56,
   "id": "0b366ed4-39d8-45a7-bf3d-81af0251c5d1",
   "metadata": {},
   "outputs": [],
   "source": [
    "from RT_Treatment_Tools import generate_fraction_date_dict, format_all_patient_fx_numbers\n",
    "from json_utils import save_to_json"
   ]
  },
  {
   "cell_type": "code",
   "execution_count": 69,
   "id": "b0dd9012-66c3-45c2-b55d-29021db183b0",
   "metadata": {},
   "outputs": [
    {
     "name": "stdout",
     "output_type": "stream",
     "text": [
      "The autoreload extension is already loaded. To reload it, use:\n",
      "  %reload_ext autoreload\n"
     ]
    }
   ],
   "source": [
    "# Reload import for changes made\n",
    "%load_ext autoreload\n",
    "%autoreload 2\n",
    "from RT_Treatment_Tools import generate_fraction_date_dict, format_all_patient_fx_numbers\n",
    "from json_utils import save_to_json"
   ]
  },
  {
   "cell_type": "code",
   "execution_count": 82,
   "id": "274f71c7-2185-47ee-8571-37bd539f8870",
   "metadata": {},
   "outputs": [],
   "source": [
    "PATH = '/mnt/iDriveShare/Trey/images/'\n",
    "save_path = '/home/kayla/'"
   ]
  },
  {
   "cell_type": "markdown",
   "id": "85db8dcb-9b97-4549-8142-1c2cc455b681",
   "metadata": {},
   "source": [
    "## Generating Fraction-Dates Dictionary and Saving to json"
   ]
  },
  {
   "cell_type": "code",
   "execution_count": 83,
   "id": "1007b688-c296-4a5c-bdb0-8e2a93fcb854",
   "metadata": {},
   "outputs": [],
   "source": [
    "fraction_dates = generate_fraction_date_dict(PATH)"
   ]
  },
  {
   "cell_type": "code",
   "execution_count": 84,
   "id": "84114902-55de-4783-951c-abd37b5a477b",
   "metadata": {},
   "outputs": [],
   "source": [
    "save_to_json(fraction_dates,save_path+\"fraction_dates.json\")"
   ]
  },
  {
   "cell_type": "code",
   "execution_count": 85,
   "id": "f8e8154f-1362-47a3-9dcd-ed106ef4d882",
   "metadata": {},
   "outputs": [],
   "source": [
    "fraction_dates_noCT = format_all_patient_fx_numbers(fraction_dates)"
   ]
  },
  {
   "cell_type": "code",
   "execution_count": 86,
   "id": "d7ffb0f9-2001-4091-a7be-d113fd6fb1d0",
   "metadata": {},
   "outputs": [],
   "source": [
    "save_to_json(fraction_dates_noCT,save_path+\"fraction_dates_noCT.json\")"
   ]
  },
  {
   "cell_type": "code",
   "execution_count": null,
   "id": "d5f4f4c9-8756-48bd-81f0-636cc8bc534e",
   "metadata": {},
   "outputs": [],
   "source": [
    "fraction_dates"
   ]
  },
  {
   "cell_type": "code",
   "execution_count": null,
   "id": "e4517ca7-d4d5-4d71-a39f-26a48a5d029a",
   "metadata": {},
   "outputs": [],
   "source": [
    "fraction_dates_noCT"
   ]
  },
  {
   "cell_type": "markdown",
   "id": "acb83d65-c5a1-46f3-ae0d-86f3999b3f25",
   "metadata": {},
   "source": [
    "### Accessing the saved jsons"
   ]
  },
  {
   "cell_type": "code",
   "execution_count": 92,
   "id": "8bf5eb08-29c2-4fa7-ba5d-824051cdcc64",
   "metadata": {},
   "outputs": [],
   "source": [
    "import json\n",
    "\n",
    "with open(\"/home/kayla/fraction_dates.json\") as json_file:\n",
    "    fxd= json.load(json_file)\n",
    "    \n",
    "with open(\"/home/kayla/fraction_dates_noCT.json\") as json_file:\n",
    "    fxdnoct= json.load(json_file)"
   ]
  },
  {
   "cell_type": "code",
   "execution_count": 91,
   "id": "1f15269d-4acc-4997-ad7d-4e7efc545c45",
   "metadata": {},
   "outputs": [
    {
     "data": {
      "text/plain": [
       "{'20181116': {'1': '20181122',\n",
       "  '2': '20181123',\n",
       "  '3': '20181126',\n",
       "  '4': '20181127',\n",
       "  '5': '20181128'}}"
      ]
     },
     "execution_count": 91,
     "metadata": {},
     "output_type": "execute_result"
    }
   ],
   "source": [
    "patient = '0'\n",
    "fxd['0']"
   ]
  },
  {
   "cell_type": "code",
   "execution_count": 94,
   "id": "18b992f4-963a-4145-b9d8-773d9b4e805e",
   "metadata": {},
   "outputs": [
    {
     "data": {
      "text/plain": [
       "{'1': '20181122',\n",
       " '2': '20181123',\n",
       " '3': '20181126',\n",
       " '4': '20181127',\n",
       " '5': '20181128'}"
      ]
     },
     "execution_count": 94,
     "metadata": {},
     "output_type": "execute_result"
    }
   ],
   "source": [
    "fxdnoct['0']"
   ]
  },
  {
   "cell_type": "code",
   "execution_count": 98,
   "id": "9b5dfd48-f98f-49b9-a195-22fe1813750b",
   "metadata": {},
   "outputs": [
    {
     "name": "stdout",
     "output_type": "stream",
     "text": [
      "20181122\n",
      "20181122\n"
     ]
    }
   ],
   "source": [
    "# Get first fraction:\n",
    "patient = '0'\n",
    "fraction = '1'\n",
    "\n",
    "#no ct:\n",
    "print(fxdnoct[patient][fraction])\n",
    "\n",
    "# with ct:\n",
    "ct_date = '20181116'\n",
    "print(fxd[patient][ct_date][fraction])"
   ]
  },
  {
   "cell_type": "code",
   "execution_count": null,
   "id": "4ec3674d-3cad-44a3-af50-62ffec3ecc92",
   "metadata": {},
   "outputs": [],
   "source": []
  }
 ],
 "metadata": {
  "kernelspec": {
   "display_name": "Python 3 (ipykernel)",
   "language": "python",
   "name": "python3"
  },
  "language_info": {
   "codemirror_mode": {
    "name": "ipython",
    "version": 3
   },
   "file_extension": ".py",
   "mimetype": "text/x-python",
   "name": "python",
   "nbconvert_exporter": "python",
   "pygments_lexer": "ipython3",
   "version": "3.8.10"
  }
 },
 "nbformat": 4,
 "nbformat_minor": 5
}
