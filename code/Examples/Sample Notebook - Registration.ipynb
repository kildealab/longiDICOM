{
 "cells": [
  {
   "cell_type": "code",
   "execution_count": 1,
   "id": "9abf51a3-c8d7-4253-a5d9-a784b751cbdd",
   "metadata": {},
   "outputs": [],
   "source": [
    "import sys"
   ]
  },
  {
   "cell_type": "code",
   "execution_count": 2,
   "id": "990685b8-a243-4b56-a8fa-f0b404cf85b7",
   "metadata": {},
   "outputs": [],
   "source": [
    "sys.path.append(\"../\")"
   ]
  },
  {
   "cell_type": "code",
   "execution_count": 3,
   "id": "dd16db15-6724-47cd-b580-43f40e824fb7",
   "metadata": {},
   "outputs": [],
   "source": [
    "from Registration.dicom_registration import register_patient\n",
    "# from sitk_img_tools import get_start_position_sitk"
   ]
  },
  {
   "cell_type": "code",
   "execution_count": 4,
   "id": "446cb4d4-e0bc-48b6-a9f2-c6d3e3efcff0",
   "metadata": {},
   "outputs": [],
   "source": [
    "# Define your paths\n",
    "PATH = '/mnt/iDriveShare/Kayla/CBCT_images/kayla_extracted/' # Path to patient files\n",
    "save_path = '/data/kayla/HNC_images/test/' # Path to save jsons"
   ]
  },
  {
   "cell_type": "code",
   "execution_count": 5,
   "id": "8146a9c7-af9b-4d9a-a9ea-9d70a52b1913",
   "metadata": {},
   "outputs": [],
   "source": [
    "# Sample patient\n",
    "patient = '147'\n",
    "patient_path = PATH+ patient+'/'"
   ]
  },
  {
   "cell_type": "code",
   "execution_count": null,
   "id": "0c6f4965-7817-4fd6-be57-342e76c56931",
   "metadata": {},
   "outputs": [
    {
     "name": "stdout",
     "output_type": "stream",
     "text": [
      "/mnt/iDriveShare/Kayla/CBCT_images/kayla_extracted/147/\n",
      "- Loading files from /mnt/iDriveShare/Kayla/CBCT_images/kayla_extracted/147/  -\n",
      "['20190712_CT_05_JUL_2019']\n",
      "['20190813_kV_CBCT_21a', '20190822_kV_CBCT_28a', '20190815_kV_CBCT_23a', '20190829_kV_CBCT_33a', '20190715_kV_CBCT_1a', '20190809_kV_CBCT_19a', '20190726_kV_CBCT_10a', '20190724_kV_CBCT_8a', '20190827_kV_CBCT_31a', '20190820_kV_CBCT_26a', '20190801_kV_CBCT_14a', '20190719_kV_CBCT_5a', '20190807_kV_CBCT_17a', '20190730_kV_CBCT_12a']\n",
      "False\n",
      "--------------------------------------------------------\n",
      "-                   Registering CBCTs                  -\n",
      "--------------------------------------------------------\n",
      "20190715_kV_CBCT_1a\n",
      "RE -  /mnt/iDriveShare/Kayla/CBCT_images/kayla_extracted/147/20190715_kV_CBCT_1a/RE.1.2.246.352.221.49296791292763617353492637716670640555.dcm\n",
      "20190719_kV_CBCT_5a\n",
      "RE -  /mnt/iDriveShare/Kayla/CBCT_images/kayla_extracted/147/20190719_kV_CBCT_5a/RE.1.2.246.352.221.543674430968074614012384247961797166518.dcm\n",
      "20190724_kV_CBCT_8a\n",
      "RE -  /mnt/iDriveShare/Kayla/CBCT_images/kayla_extracted/147/20190724_kV_CBCT_8a/RE.1.2.246.352.221.52144294001015008421854553852316985758.dcm\n",
      "20190726_kV_CBCT_10a\n",
      "RE -  /mnt/iDriveShare/Kayla/CBCT_images/kayla_extracted/147/20190726_kV_CBCT_10a/RE.1.2.246.352.221.50473807634548726902108350072741632422.dcm\n",
      "20190730_kV_CBCT_12a\n",
      "RE -  /mnt/iDriveShare/Kayla/CBCT_images/kayla_extracted/147/20190730_kV_CBCT_12a/RE.1.2.246.352.221.47806971407540700408457056539819707558.dcm\n",
      "20190801_kV_CBCT_14a\n",
      "RE -  /mnt/iDriveShare/Kayla/CBCT_images/kayla_extracted/147/20190801_kV_CBCT_14a/RE.1.2.246.352.221.51204649287986215295339147335709672363.dcm\n",
      "20190807_kV_CBCT_17a\n",
      "RE -  /mnt/iDriveShare/Kayla/CBCT_images/kayla_extracted/147/20190807_kV_CBCT_17a/RE.1.2.246.352.221.46120050420099421646314303909524451999.dcm\n",
      "20190809_kV_CBCT_19a\n",
      "RE -  /mnt/iDriveShare/Kayla/CBCT_images/kayla_extracted/147/20190809_kV_CBCT_19a/RE.1.2.246.352.221.558816636954760103410675080437507903126.dcm\n",
      "20190813_kV_CBCT_21a\n",
      "RE -  /mnt/iDriveShare/Kayla/CBCT_images/kayla_extracted/147/20190813_kV_CBCT_21a/RE.1.2.246.352.221.558680666769553968412995354378789447615.dcm\n",
      "20190815_kV_CBCT_23a\n",
      "RE -  /mnt/iDriveShare/Kayla/CBCT_images/kayla_extracted/147/20190815_kV_CBCT_23a/RE.1.2.246.352.221.468919922967729219716128679684164765597.dcm\n",
      "20190820_kV_CBCT_26a\n",
      "RE -  /mnt/iDriveShare/Kayla/CBCT_images/kayla_extracted/147/20190820_kV_CBCT_26a/RE.1.2.246.352.221.502035550885007873113295017010408734086.dcm\n",
      "20190822_kV_CBCT_28a\n"
     ]
    }
   ],
   "source": [
    "# Register the patient CBCT images\n",
    "image_dict = register_patient(patient_path, True)"
   ]
  },
  {
   "cell_type": "code",
   "execution_count": null,
   "id": "6a994d29-b840-47b7-8b07-bd0656eff8d3",
   "metadata": {},
   "outputs": [],
   "source": []
  }
 ],
 "metadata": {
  "kernelspec": {
   "display_name": "Python 3 (ipykernel)",
   "language": "python",
   "name": "python3"
  },
  "language_info": {
   "codemirror_mode": {
    "name": "ipython",
    "version": 3
   },
   "file_extension": ".py",
   "mimetype": "text/x-python",
   "name": "python",
   "nbconvert_exporter": "python",
   "pygments_lexer": "ipython3",
   "version": "3.8.10"
  }
 },
 "nbformat": 4,
 "nbformat_minor": 5
}
